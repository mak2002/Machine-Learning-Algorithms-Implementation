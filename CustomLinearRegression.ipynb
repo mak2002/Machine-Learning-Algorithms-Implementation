{
 "cells": [
  {
   "cell_type": "code",
   "execution_count": 1,
   "id": "a979a55c-7536-4d28-92bb-b9d160b92072",
   "metadata": {},
   "outputs": [],
   "source": [
    "import numpy as np\n",
    "import matplotlib.pyplot as plt\n",
    "from sklearn.datasets import make_regression\n",
    "import seaborn as sns\n",
    "\n",
    "import warnings\n",
    "warnings.filterwarnings('ignore')"
   ]
  },
  {
   "cell_type": "code",
   "execution_count": 2,
   "id": "6102262d-44c3-4fe2-a45a-adedf08f052d",
   "metadata": {},
   "outputs": [],
   "source": [
    "bias = 200\n",
    "X, y, coef = make_regression(n_features=1, noise=10, bias=bias, random_state=42, coef=True)"
   ]
  },
  {
   "cell_type": "code",
   "execution_count": 3,
   "id": "fce28f88-4e7c-4157-a32f-5985bdd3122b",
   "metadata": {},
   "outputs": [
    {
     "data": {
      "text/plain": [
       "((100, 1), (100,))"
      ]
     },
     "execution_count": 3,
     "metadata": {},
     "output_type": "execute_result"
    }
   ],
   "source": [
    "X.shape, y.shape"
   ]
  },
  {
   "cell_type": "code",
   "execution_count": 4,
   "id": "a8c7f847-8715-43a2-a732-c6b3136c3d33",
   "metadata": {},
   "outputs": [
    {
     "data": {
      "text/plain": [
       "<matplotlib.collections.PathCollection at 0x7f390ccf2a60>"
      ]
     },
     "execution_count": 4,
     "metadata": {},
     "output_type": "execute_result"
    },
    {
     "data": {
      "image/png": "[encoded data removed]",
      "text/plain": [
       "<Figure size 432x288 with 1 Axes>"
      ]
     },
     "metadata": {
      "needs_background": "light"
     },
     "output_type": "display_data"
    }
   ],
   "source": [
    "plt.scatter(X,y)"
   ]
  },
  {
   "cell_type": "markdown",
   "id": "e3776ee8-b705-4611-a8ec-9bb3af379b35",
   "metadata": {},
   "source": [
    "y = mx + c, m = coef, c = bias"
   ]
  },
  {
   "cell_type": "code",
   "execution_count": 5,
   "id": "5f44fb2f-78bb-4803-83ce-95ab77872b9f",
   "metadata": {},
   "outputs": [
    {
     "data": {
      "text/plain": [
       "(array(41.74110031), 200)"
      ]
     },
     "execution_count": 5,
     "metadata": {},
     "output_type": "execute_result"
    }
   ],
   "source": [
    "coef, bias"
   ]
  },
  {
   "cell_type": "code",
   "execution_count": 6,
   "id": "a71644fc-d9c9-4bde-bfbe-d47beb0b382a",
   "metadata": {},
   "outputs": [],
   "source": [
    "y_gen = X * coef + bias"
   ]
  },
  {
   "cell_type": "code",
   "execution_count": 7,
   "id": "1785bb24-2f4b-4b6c-b9a6-1ed21eec8013",
   "metadata": {},
   "outputs": [
    {
     "data": {
      "text/plain": [
       "[<matplotlib.lines.Line2D at 0x7f390cc08910>]"
      ]
     },
     "execution_count": 7,
     "metadata": {},
     "output_type": "execute_result"
    },
    {
     "data": {
      "image/png": "[encoded data removed]",
      "text/plain": [
       "<Figure size 432x288 with 1 Axes>"
      ]
     },
     "metadata": {
      "needs_background": "light"
     },
     "output_type": "display_data"
    }
   ],
   "source": [
    "plt.scatter(X, y)\n",
    "plt.plot(X, y_gen)"
   ]
  },
  {
   "cell_type": "code",
   "execution_count": 8,
   "id": "08814689-3042-4bde-adab-7eff4ebce182",
   "metadata": {},
   "outputs": [],
   "source": [
    "from sklearn.linear_model import LinearRegression"
   ]
  },
  {
   "cell_type": "code",
   "execution_count": 9,
   "id": "766e1f6a-2cea-4e86-bcad-e70e3d4af906",
   "metadata": {},
   "outputs": [],
   "source": [
    "model = LinearRegression()"
   ]
  },
  {
   "cell_type": "code",
   "execution_count": 10,
   "id": "8b475445-b9d1-4353-b34a-b16ef0685796",
   "metadata": {},
   "outputs": [
    {
     "data": {
      "text/plain": [
       "LinearRegression()"
      ]
     },
     "execution_count": 10,
     "metadata": {},
     "output_type": "execute_result"
    }
   ],
   "source": [
    "model.fit(X, y)"
   ]
  },
  {
   "cell_type": "code",
   "execution_count": 11,
   "id": "1b6430ce-4508-43a1-a1a9-181f803d3ed1",
   "metadata": {},
   "outputs": [
    {
     "data": {
      "text/plain": [
       "(array([44.43716999]), 201.16511532052695)"
      ]
     },
     "execution_count": 11,
     "metadata": {},
     "output_type": "execute_result"
    }
   ],
   "source": [
    "model.coef_, model.intercept_"
   ]
  },
  {
   "cell_type": "code",
   "execution_count": 12,
   "id": "b5eadce5-f96b-48d9-8de2-85d5cd6e0dd7",
   "metadata": {},
   "outputs": [
    {
     "data": {
      "text/plain": [
       "<matplotlib.legend.Legend at 0x7f390c7b0a30>"
      ]
     },
     "execution_count": 12,
     "metadata": {},
     "output_type": "execute_result"
    },
    {
     "data": {
      "image/png": "[encoded data removed]",
      "text/plain": [
       "<Figure size 432x288 with 1 Axes>"
      ]
     },
     "metadata": {
      "needs_background": "light"
     },
     "output_type": "display_data"
    }
   ],
   "source": [
    "plt.scatter(X, y)\n",
    "plt.plot(X, y_gen, label=\"Previous\")\n",
    "plt.plot(X, model.predict(X), label=\"LR\")\n",
    "plt.legend()"
   ]
  },
  {
   "cell_type": "markdown",
   "id": "ab7b9bac-0f30-470f-ace8-1bfdf4b404a1",
   "metadata": {},
   "source": [
    "## Custom Linear Regression Implementation"
   ]
  },
  {
   "cell_type": "code",
   "execution_count": 13,
   "id": "0f6c97f9-bb1f-4f40-ad20-c917e84c64bb",
   "metadata": {},
   "outputs": [],
   "source": [
    "class LinearRegressionCustom:\n",
    "    \n",
    "    def __init__(self, lr=0.1):\n",
    "        self.lr = lr\n",
    "    \n",
    "    def fit(self, X , y):\n",
    "        self._X = X\n",
    "        self._y = y.reshape(-1, 1)\n",
    "        \n",
    "        self.coef_ = np.random.random()\n",
    "        self.intercept_ = np.random.random()\n",
    "        \n",
    "        errors = []\n",
    "        \n",
    "        for i in range(50):\n",
    "            self.gradient_descent()\n",
    "            errors.append(self.error())\n",
    "        return errors\n",
    "    \n",
    "    def gradient_descent(self):\n",
    "            d_coef, d_intercept = self.gradient()\n",
    "            self.coef_ -= d_coef * self.lr\n",
    "            self.intercept_ -= d_intercept * self.lr\n",
    "            \n",
    "    def gradient(self):\n",
    "        yh = self.predict(self._X)\n",
    "        \n",
    "        d_coef = ((yh - self._y) * self._X).mean()\n",
    "        d_intercept = (yh - self._y).mean()\n",
    "        \n",
    "        return d_coef, d_intercept\n",
    "    \n",
    "    def predict(self, X):\n",
    "        return X * self.coef_ + self.intercept_\n",
    "    \n",
    "    def error(self):\n",
    "        return ((self.predict(self._X) - self._y) ** 2).sum()"
   ]
  },
  {
   "cell_type": "code",
   "execution_count": 14,
   "id": "9b8dd058-9859-438a-99a8-b9244be6d3fb",
   "metadata": {},
   "outputs": [],
   "source": [
    "model = LinearRegressionCustom(lr=0.1)"
   ]
  },
  {
   "cell_type": "code",
   "execution_count": 15,
   "id": "59ac34ad-7a71-428b-9ee2-2aedf5808ccc",
   "metadata": {},
   "outputs": [],
   "source": [
    "errors = model.fit(X, y)"
   ]
  },
  {
   "cell_type": "code",
   "execution_count": 16,
   "id": "1dd14d9c-0a8c-497c-a41f-ab158cd1b969",
   "metadata": {},
   "outputs": [
    {
     "data": {
      "text/plain": [
       "(42.74451324383692, 199.6616287544444)"
      ]
     },
     "execution_count": 16,
     "metadata": {},
     "output_type": "execute_result"
    }
   ],
   "source": [
    "model.coef_, model.intercept_"
   ]
  },
  {
   "cell_type": "code",
   "execution_count": 17,
   "id": "9e9b433c-78e3-4f5a-bdf8-df7e770cab3c",
   "metadata": {},
   "outputs": [
    {
     "data": {
      "text/plain": [
       "<matplotlib.legend.Legend at 0x7f390c72dac0>"
      ]
     },
     "execution_count": 17,
     "metadata": {},
     "output_type": "execute_result"
    },
    {
     "data": {
      "image/png": "[encoded data removed]",
      "text/plain": [
       "<Figure size 432x288 with 1 Axes>"
      ]
     },
     "metadata": {
      "needs_background": "light"
     },
     "output_type": "display_data"
    }
   ],
   "source": [
    "plt.scatter(X, y)\n",
    "plt.plot(X, y_gen, label=\"Pre\")\n",
    "plt.plot(X, model.predict(X), label=\"CustomLR\")\n",
    "plt.legend()"
   ]
  },
  {
   "cell_type": "code",
   "execution_count": 18,
   "id": "b6b86fa7-2ec0-431c-a9c4-e51b624aa6ec",
   "metadata": {},
   "outputs": [
    {
     "data": {
      "text/plain": [
       "[<matplotlib.lines.Line2D at 0x7f390c6d5ca0>]"
      ]
     },
     "execution_count": 18,
     "metadata": {},
     "output_type": "execute_result"
    },
    {
     "data": {
      "image/png": "[encoded data removed]",
      "text/plain": [
       "<Figure size 432x288 with 1 Axes>"
      ]
     },
     "metadata": {
      "needs_background": "light"
     },
     "output_type": "display_data"
    }
   ],
   "source": [
    "plt.plot(errors)"
   ]
  }
 ],
 "metadata": {
  "kernelspec": {
   "display_name": "Python 3",
   "language": "python",
   "name": "python3"
  },
  "language_info": {
   "codemirror_mode": {
    "name": "ipython",
    "version": 3
   },
   "file_extension": ".py",
   "mimetype": "text/x-python",
   "name": "python",
   "nbconvert_exporter": "python",
   "pygments_lexer": "ipython3",
   "version": "3.8.8"
  }
 },
 "nbformat": 4,
 "nbformat_minor": 5
}
